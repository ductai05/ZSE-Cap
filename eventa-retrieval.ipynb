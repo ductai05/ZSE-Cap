{
 "cells": [
  {
   "cell_type": "code",
   "execution_count": 1,
   "metadata": {
    "_cell_guid": "14f1a4fa-0ba7-49f1-a4e1-3e533c1991f9",
    "_uuid": "3aa6633b-fcee-437a-b75b-5cf92fee29b7",
    "collapsed": false,
    "execution": {
     "iopub.execute_input": "2025-06-29T06:22:23.379664Z",
     "iopub.status.busy": "2025-06-29T06:22:23.378955Z",
     "iopub.status.idle": "2025-06-29T06:22:26.307169Z",
     "shell.execute_reply": "2025-06-29T06:22:26.306096Z",
     "shell.execute_reply.started": "2025-06-29T06:22:23.379619Z"
    },
    "jupyter": {
     "outputs_hidden": false
    },
    "trusted": true
   },
   "outputs": [],
   "source": [
    "# import faiss\n",
    "import numpy as np\n",
    "import pandas as pd\n",
    "import json\n",
    "import os\n",
    "import sys\n",
    "from tqdm import tqdm\n",
    "from PIL import Image\n",
    "import matplotlib.pyplot as plt\n",
    "from sklearn.metrics.pairwise import euclidean_distances"
   ]
  },
  {
   "cell_type": "markdown",
   "metadata": {
    "_cell_guid": "9a0132a5-db5c-40a4-8102-8108510515bb",
    "_uuid": "6420aa23-5cdd-447e-bdb8-8ae7f51447ce",
    "collapsed": false,
    "jupyter": {
     "outputs_hidden": false
    },
    "trusted": true
   },
   "source": [
    "# Load all data"
   ]
  },
  {
   "cell_type": "code",
   "execution_count": 2,
   "metadata": {
    "_cell_guid": "124c781f-32a3-48b1-81f7-79379bebb1f5",
    "_uuid": "7a091176-ea41-4ab9-abe6-c9dae6728480",
    "collapsed": false,
    "execution": {
     "iopub.execute_input": "2025-06-29T06:22:26.309621Z",
     "iopub.status.busy": "2025-06-29T06:22:26.309055Z",
     "iopub.status.idle": "2025-06-29T06:23:20.034341Z",
     "shell.execute_reply": "2025-06-29T06:23:20.033284Z",
     "shell.execute_reply.started": "2025-06-29T06:22:26.309579Z"
    },
    "jupyter": {
     "outputs_hidden": false
    },
    "trusted": true
   },
   "outputs": [],
   "source": [
    "# database\n",
    "txt_json_path = '/kaggle/input/eventa-json-cieldt/database.json'\n",
    "with open(txt_json_path, 'r') as file:\n",
    "    database_txt_json = json.load(file)\n",
    "\n",
    "img_json_path_siglip = '/kaggle/input/eventa-database-img-siglip/database_index.json'\n",
    "with open(img_json_path_siglip, 'r') as file:\n",
    "    database_img_ids = json.load(file)\n",
    "\n",
    "# database SigLIP\n",
    "database_img_np_siglip = np.load('/kaggle/input/eventa-database-img-siglip/database_SigLIP_embeddings.npy').astype('float32')\n",
    "\n",
    "# database CLIP\n",
    "database_img_np_clip = np.load('/kaggle/input/eventa-database-clip-vit-l14/databse_clip.npy').astype('float32')\n",
    "\n",
    "# database DINOV2\n",
    "database_img_np_dino = np.load('/kaggle/input/dinov2/database_img.npy').astype('float32')"
   ]
  },
  {
   "cell_type": "code",
   "execution_count": 3,
   "metadata": {
    "_cell_guid": "a4401892-2b63-4901-911a-e8437819da9d",
    "_uuid": "4975fa63-2b6c-43f4-927d-de73dc44c96a",
    "collapsed": false,
    "execution": {
     "iopub.execute_input": "2025-06-29T06:23:20.035748Z",
     "iopub.status.busy": "2025-06-29T06:23:20.035401Z",
     "iopub.status.idle": "2025-06-29T06:23:20.320878Z",
     "shell.execute_reply": "2025-06-29T06:23:20.319986Z",
     "shell.execute_reply.started": "2025-06-29T06:23:20.035716Z"
    },
    "jupyter": {
     "outputs_hidden": false
    },
    "trusted": true
   },
   "outputs": [],
   "source": [
    "getArticle_database = {}\n",
    "for art_id, metadata in database_txt_json.items():\n",
    "    for img_id in metadata['images']:\n",
    "        getArticle_database[img_id] = art_id"
   ]
  },
  {
   "cell_type": "markdown",
   "metadata": {
    "_cell_guid": "39379715-1942-4863-8088-029063a5c983",
    "_uuid": "47178bd4-7367-45c1-be0d-b5555d9cdd4f",
    "collapsed": false,
    "jupyter": {
     "outputs_hidden": false
    },
    "trusted": true
   },
   "source": [
    "# Retrieving"
   ]
  },
  {
   "cell_type": "code",
   "execution_count": 4,
   "metadata": {
    "_cell_guid": "de29d743-bd27-4e0b-b46f-ac6d88171b17",
    "_uuid": "ea7c7f5c-0918-43be-a69e-8c0dcb01d54e",
    "collapsed": false,
    "execution": {
     "iopub.execute_input": "2025-06-29T06:23:20.323482Z",
     "iopub.status.busy": "2025-06-29T06:23:20.323097Z",
     "iopub.status.idle": "2025-06-29T06:23:20.497286Z",
     "shell.execute_reply": "2025-06-29T06:23:20.496167Z",
     "shell.execute_reply.started": "2025-06-29T06:23:20.323452Z"
    },
    "jupyter": {
     "outputs_hidden": false
    },
    "trusted": true
   },
   "outputs": [],
   "source": [
    "# query\n",
    "query_json_path_dino = '/kaggle/input/dinov2/public_test_img_index.json'\n",
    "with open(query_json_path_dino, 'r') as file:\n",
    "    query_json = json.load(file)\n",
    "\n",
    "# query Siglip\n",
    "query_np_siglip = np.load('/kaggle/input/eventa-public-test-siglip/public_test_img.npy').astype('float32')\n",
    "\n",
    "# query clip\n",
    "query_np_clip = np.load('/kaggle/input/eventa-puclic-test-embedding/public_test_embedding.npy').astype('float32')\n",
    "\n",
    "# query DINOV2\n",
    "query_np_dino = np.load('/kaggle/input/dinov2/public_test_img.npy').astype('float32')"
   ]
  },
  {
   "cell_type": "code",
   "execution_count": 5,
   "metadata": {
    "_cell_guid": "75514b15-e8cb-4f61-b50c-a347a1938573",
    "_uuid": "3af5c04f-4325-4350-b3e7-05ac8fa9cd06",
    "collapsed": false,
    "execution": {
     "iopub.execute_input": "2025-06-29T06:23:20.498620Z",
     "iopub.status.busy": "2025-06-29T06:23:20.498322Z",
     "iopub.status.idle": "2025-06-29T06:23:20.519857Z",
     "shell.execute_reply": "2025-06-29T06:23:20.518810Z",
     "shell.execute_reply.started": "2025-06-29T06:23:20.498594Z"
    },
    "jupyter": {
     "outputs_hidden": false
    },
    "trusted": true
   },
   "outputs": [],
   "source": [
    "def find_all_dist(vector_lists, database_lists):\n",
    "    all_dist = []\n",
    "    for i, query_vectors in enumerate(vector_lists):\n",
    "        print(f'Calculating {i+1}(th) type distances')\n",
    "        distances = euclidean_distances(query_vectors, database_lists[i])\n",
    "        all_dist.append(distances)\n",
    "    return all_dist\n",
    "    \n",
    "def retrieve(all_dist, query_json, scores_list, Top_K=50, Top_N_Art=10):\n",
    "    score_list = scores_list / scores_list.sum()\n",
    "    num_queries = len(query_json)\n",
    "    output_filename = \"submission.csv\"\n",
    "\n",
    "    print(f\"Starting to generate {output_filename} for {num_queries} queries...\")\n",
    "\n",
    "    with open(output_filename, 'w') as f_out:\n",
    "        header_cols = [f\"article_id_{i+1}\" for i in range(Top_N_Art)]\n",
    "        f_out.write(f\"query_id,{','.join(header_cols)},generated_caption\\n\")\n",
    "\n",
    "        for q_idx in range(num_queries):\n",
    "            try:\n",
    "                combined_dist = np.zeros_like(all_dist[0][q_idx])\n",
    "                for i in range(len(scores_list)):\n",
    "                    if scores_list[i] == 0:\n",
    "                        continue\n",
    "                    combined_dist += scores_list[i] * all_dist[i][q_idx]\n",
    "\n",
    "                # Lấy top-K chỉ số nhỏ nhất\n",
    "                top_k_indices = np.argpartition(combined_dist, Top_K)[:Top_K]\n",
    "                top_k_indices_sorted = top_k_indices[np.argsort(combined_dist[top_k_indices])]\n",
    "\n",
    "                # Trích xuất ID bài viết không trùng lặp\n",
    "                retrieved_article_ids = []\n",
    "                for idx in top_k_indices_sorted:\n",
    "                    img_id = database_img_ids[idx]\n",
    "                    article_id = getArticle_database[img_id]\n",
    "                    if article_id not in retrieved_article_ids:\n",
    "                        retrieved_article_ids.append(article_id)\n",
    "                    if len(retrieved_article_ids) == Top_N_Art:\n",
    "                        break\n",
    "\n",
    "                # Ghi kết quả\n",
    "                query_id = query_json[q_idx]\n",
    "                output_article_ids = [str(aid) for aid in retrieved_article_ids]\n",
    "                while len(output_article_ids) < Top_N_Art:\n",
    "                    output_article_ids.append(\"#\")\n",
    "                caption = \"Nothing\"\n",
    "                f_out.write(f\"{query_id},{','.join(output_article_ids)},\\\"{caption}\\\"\\n\")\n",
    "\n",
    "            except Exception as e:\n",
    "                print(f\"\\nError processing query index {q_idx} (query_id: {query_json[q_idx]}): {e}\")\n",
    "                output_article_ids = [\"#\" for _ in range(Top_N_Art)]\n",
    "                caption = \"ERROR\"\n",
    "                f_out.write(f\"{query_json[q_idx]},{','.join(output_article_ids)},\\\"{caption}\\\"\\n\")\n",
    "\n",
    "    print(f\"Completed! Submission file created: {output_filename}\")\n"
   ]
  },
  {
   "cell_type": "code",
   "execution_count": null,
   "metadata": {
    "_cell_guid": "c67c986e-5cfa-4a3c-9a63-87ad5753e303",
    "_uuid": "3179e486-1c57-45e7-9bd1-ae0e5462b5e8",
    "collapsed": false,
    "execution": {
     "iopub.execute_input": "2025-06-29T06:23:20.521369Z",
     "iopub.status.busy": "2025-06-29T06:23:20.520939Z",
     "iopub.status.idle": "2025-06-29T06:25:56.480443Z",
     "shell.execute_reply": "2025-06-29T06:25:56.478202Z",
     "shell.execute_reply.started": "2025-06-29T06:23:20.521225Z"
    },
    "jupyter": {
     "outputs_hidden": false
    },
    "trusted": true
   },
   "outputs": [],
   "source": [
    "vector_lists = [query_np_siglip, query_np_dino, query_np_clip]\n",
    "database_lists = [database_img_np_siglip, database_img_np_dino, database_img_np_clip]\n",
    "all_dist = find_all_dist(vector_lists, database_lists)"
   ]
  },
  {
   "cell_type": "code",
   "execution_count": 7,
   "metadata": {
    "_cell_guid": "32c70dcf-5989-4242-ab1e-cb61c8d694ae",
    "_uuid": "74ce8ea6-9d74-4b37-9f15-6208ab7ee62d",
    "collapsed": false,
    "execution": {
     "iopub.execute_input": "2025-06-29T06:25:56.482714Z",
     "iopub.status.busy": "2025-06-29T06:25:56.482041Z",
     "iopub.status.idle": "2025-06-29T06:25:56.504257Z",
     "shell.execute_reply": "2025-06-29T06:25:56.503094Z",
     "shell.execute_reply.started": "2025-06-29T06:25:56.482672Z"
    },
    "jupyter": {
     "outputs_hidden": false
    },
    "trusted": true
   },
   "outputs": [],
   "source": [
    "# giải phóng bộ nhớ\n",
    "del query_np_siglip, query_np_dino, query_np_clip\n",
    "del database_img_np_siglip, database_img_np_dino, database_img_np_clip\n",
    "del vector_lists, database_lists"
   ]
  },
  {
   "cell_type": "code",
   "execution_count": null,
   "metadata": {
    "execution": {
     "iopub.execute_input": "2025-06-29T06:27:43.278613Z",
     "iopub.status.busy": "2025-06-29T06:27:43.278128Z",
     "iopub.status.idle": "2025-06-29T06:28:02.034264Z",
     "shell.execute_reply": "2025-06-29T06:28:02.033239Z",
     "shell.execute_reply.started": "2025-06-29T06:27:43.278573Z"
    },
    "trusted": true
   },
   "outputs": [],
   "source": [
    "# tiện cho tinh chỉnh\n",
    "scores = np.array([0.3, 0.5, 0.3]) #siglip, dino, clip\n",
    "retrieve(all_dist, query_json, scores)\n",
    "res_df = pd.read_csv('/kaggle/working/submission.csv')"
   ]
  }
 ],
 "metadata": {
  "kaggle": {
   "accelerator": "none",
   "dataSources": [
    {
     "datasetId": 7449575,
     "sourceId": 11856994,
     "sourceType": "datasetVersion"
    },
    {
     "datasetId": 7472960,
     "sourceId": 11889649,
     "sourceType": "datasetVersion"
    },
    {
     "datasetId": 7493989,
     "sourceId": 11920188,
     "sourceType": "datasetVersion"
    },
    {
     "datasetId": 7579278,
     "sourceId": 12044351,
     "sourceType": "datasetVersion"
    },
    {
     "datasetId": 7579758,
     "sourceId": 12045011,
     "sourceType": "datasetVersion"
    },
    {
     "datasetId": 7601089,
     "sourceId": 12075294,
     "sourceType": "datasetVersion"
    },
    {
     "datasetId": 7605433,
     "sourceId": 12081464,
     "sourceType": "datasetVersion"
    }
   ],
   "dockerImageVersionId": 31040,
   "isGpuEnabled": false,
   "isInternetEnabled": true,
   "language": "python",
   "sourceType": "notebook"
  },
  "kernelspec": {
   "display_name": "Python 3",
   "language": "python",
   "name": "python3"
  },
  "language_info": {
   "codemirror_mode": {
    "name": "ipython",
    "version": 3
   },
   "file_extension": ".py",
   "mimetype": "text/x-python",
   "name": "python",
   "nbconvert_exporter": "python",
   "pygments_lexer": "ipython3",
   "version": "3.11.11"
  }
 },
 "nbformat": 4,
 "nbformat_minor": 4
}
